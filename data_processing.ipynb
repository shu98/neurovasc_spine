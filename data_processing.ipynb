{
 "cells": [
  {
   "cell_type": "code",
   "execution_count": 3,
   "id": "dc78a364-adc4-4e5f-8128-36848d671120",
   "metadata": {},
   "outputs": [],
   "source": [
    "import matplotlib.pyplot as plt\n",
    "import numpy as np\n",
    "import os\n",
    "import pandas as pd\n",
    "import traceback"
   ]
  },
  {
   "cell_type": "markdown",
   "id": "e296e486-764c-4adb-bf44-9800d54e004e",
   "metadata": {},
   "source": [
    "# Save Data"
   ]
  },
  {
   "cell_type": "code",
   "execution_count": 23,
   "id": "0f136585-f7c3-4f1f-99b4-1dc20c51bc07",
   "metadata": {},
   "outputs": [],
   "source": [
    "cpt_spine_dict = {\n",
    "    \"cervical\": {\n",
    "        \"decompression\": [\"63001\", \"63015\", \"63045\", \"63048\", \"63020\", \"63035\", \"63040\", \"63043\", \"63050\", \"63051\", \"63075\", \"63076\", \"63081\", \"63082\"],\n",
    "        \"fusion\": [\"22551\", \"22552\", \"22554\", \"22585\", \"22590\", \"22595\"],\n",
    "        \"instrumentation\": [\"22845\", \"22846\", \"22847\", \"22840\", \"22842\", \"22843\", \"22844\", \"22853\", \"22854\", \"22849\"],\n",
    "        \"bone_grafting\": [\"20930\", \"20931\", \"20936\", \"20937\", \"20938\", \"20939\"]\n",
    "    },\n",
    "    \"thoracic\": {\n",
    "        \"decompression\": [\"63003\", \"63016\", \"63046\", \"63048\", \"63085\", \"63086\", \"63087\", \"62380\"],\n",
    "        \"fusion\": [\"22556\", \"22532\", \"22534\", \"22612\", \"22614\", \"22800\", \"22802\", \"22804\", \"22810\", \"22812\"],\n",
    "        \"instrumentation\": [\"22840\", \"22842\", \"22843\", \"22844\", \"22845\", \"22846\", \"22847\", \"22853\", \"22854\", \"22849\"],\n",
    "        \"bone_grafting\": [\"20930\", \"20931\", \"20936\", \"20937\", \"20938\", \"20939\"]\n",
    "    },\n",
    "    \"lumbar\": {\n",
    "        \"decompression\": [\"63005\", \"63017\", \"63047\", \"63048\", \"63030\", \"63035\", \"63042\", \"63044\", \"63052\", \"63053\", \"62380\", \"63090\", \"63091\"],\n",
    "        \"fusion\": [\"22558\", \"22585\", \"22533\", \"22534\", \"22612\", \"22614\", \"22630\", \"22632\", \"22633\", \"22634\", \"22800\", \"22802\", \"22804\", \"22810\", \"22812\"],\n",
    "        \"instrumentation\": [\"22840\", \"22842\", \"22843\", \"22844\", \"22845\", \"22846\", \"22847\", \"22853\", \"22854\", \"22859\", \"22849\"],\n",
    "        \"bone_grafting\": [\"20930\", \"20931\", \"20936\", \"20937\", \"20938\", \"20939\"]\n",
    "    }\n",
    "}\n",
    "\n",
    "# Lump spine regions for now\n",
    "cpt_spine = {}\n",
    "for region in cpt_spine_dict:\n",
    "    for proc in cpt_spine_dict[region]:\n",
    "        if proc not in cpt_spine:\n",
    "            cpt_spine[proc] = []\n",
    "\n",
    "        cpt_spine[proc].extend(cpt_spine_dict[region][proc])\n",
    "\n",
    "cpt_neurovasc = {\n",
    "    'aneurysm_coiling_embo': ['61624', '61626'],\n",
    "    'embo': ['75894', '75898'],\n",
    "    'embo_non_cns_head_neck': ['37241', '37242', '37243', '37244'],\n",
    "    'thrombectomy': ['61645'],\n",
    "    'thrombectomy_nonintracranial': ['37184', '37185', '37186'],\n",
    "    'intracranial_stent_angioplasty': ['61630', '61635', '61640', '61641', '61642'],\n",
    "    'intraarterial_pharm_infusion': ['61650', '61651'],\n",
    "    'temp_balloon': ['61623'],\n",
    "    'cerebral_angio': ['36221', '36222', '36223', '36224', '36225', '36226', '36227', '36228']\n",
    "}\n",
    "\n",
    "# Ignore cerebral angio codes for now\n",
    "ignore_codes = ['36221', '36222', '36223', '36224', '36225', '36226', '36227', '36228']"
   ]
  },
  {
   "cell_type": "code",
   "execution_count": 24,
   "id": "66a84e4b-3ae2-4c2d-a9d7-119da261bfa7",
   "metadata": {},
   "outputs": [],
   "source": [
    "current_dir = os.getcwd()"
   ]
  },
  {
   "cell_type": "code",
   "execution_count": 25,
   "id": "dff10087-d59d-45b0-93ed-1e16a1f282f0",
   "metadata": {},
   "outputs": [
    {
     "name": "stdout",
     "output_type": "stream",
     "text": [
      "Trying to process Medicare_Physician_Other_Practitioners_by_Provider_and_Service_2023.csv\n"
     ]
    },
    {
     "name": "stderr",
     "output_type": "stream",
     "text": [
      "/var/folders/jv/hvl4bxhn45d10f4fq__lhlxm0000gn/T/ipykernel_51916/2592413274.py:15: DtypeWarning: Columns (10,11) have mixed types. Specify dtype option on import or set low_memory=False.\n",
      "  f = pd.read_csv(os.path.join(raw_data_dir, file))\n"
     ]
    },
    {
     "name": "stdout",
     "output_type": "stream",
     "text": [
      "Trying to process Medicare_Physician_Other_Practitioners_by_Provider_and_Service_2022.csv\n"
     ]
    },
    {
     "name": "stderr",
     "output_type": "stream",
     "text": [
      "/var/folders/jv/hvl4bxhn45d10f4fq__lhlxm0000gn/T/ipykernel_51916/2592413274.py:15: DtypeWarning: Columns (10,11) have mixed types. Specify dtype option on import or set low_memory=False.\n",
      "  f = pd.read_csv(os.path.join(raw_data_dir, file))\n"
     ]
    },
    {
     "name": "stdout",
     "output_type": "stream",
     "text": [
      "Trying to process Medicare_Physician_Other_Practitioners_by_Provider_and_Service_2020.csv\n"
     ]
    },
    {
     "name": "stderr",
     "output_type": "stream",
     "text": [
      "/var/folders/jv/hvl4bxhn45d10f4fq__lhlxm0000gn/T/ipykernel_51916/2592413274.py:15: DtypeWarning: Columns (10,11) have mixed types. Specify dtype option on import or set low_memory=False.\n",
      "  f = pd.read_csv(os.path.join(raw_data_dir, file))\n"
     ]
    },
    {
     "name": "stdout",
     "output_type": "stream",
     "text": [
      "Trying to process Medicare_Physician_Other_Practitioners_by_Provider_and_Service_2021.csv\n"
     ]
    },
    {
     "name": "stderr",
     "output_type": "stream",
     "text": [
      "/var/folders/jv/hvl4bxhn45d10f4fq__lhlxm0000gn/T/ipykernel_51916/2592413274.py:15: DtypeWarning: Columns (10,11) have mixed types. Specify dtype option on import or set low_memory=False.\n",
      "  f = pd.read_csv(os.path.join(raw_data_dir, file))\n"
     ]
    },
    {
     "name": "stdout",
     "output_type": "stream",
     "text": [
      "Trying to process Medicare_Physician_Other_Practitioners_by_Provider_and_Service_2019.csv\n"
     ]
    },
    {
     "name": "stderr",
     "output_type": "stream",
     "text": [
      "/var/folders/jv/hvl4bxhn45d10f4fq__lhlxm0000gn/T/ipykernel_51916/2592413274.py:15: DtypeWarning: Columns (11) have mixed types. Specify dtype option on import or set low_memory=False.\n",
      "  f = pd.read_csv(os.path.join(raw_data_dir, file))\n"
     ]
    },
    {
     "name": "stdout",
     "output_type": "stream",
     "text": [
      "Trying to process .DS_Store\n",
      "Unable to process .DS_Store\n",
      "Trying to process Medicare_Physician_Other_Practitioners_by_Provider_and_Service_2018.csv\n"
     ]
    },
    {
     "name": "stderr",
     "output_type": "stream",
     "text": [
      "/var/folders/jv/hvl4bxhn45d10f4fq__lhlxm0000gn/T/ipykernel_51916/2592413274.py:15: DtypeWarning: Columns (11) have mixed types. Specify dtype option on import or set low_memory=False.\n",
      "  f = pd.read_csv(os.path.join(raw_data_dir, file))\n"
     ]
    },
    {
     "name": "stdout",
     "output_type": "stream",
     "text": [
      "Trying to process Medicare_Physician_Other_Practitioners_by_Provider_and_Service_2016.csv\n"
     ]
    },
    {
     "name": "stderr",
     "output_type": "stream",
     "text": [
      "/var/folders/jv/hvl4bxhn45d10f4fq__lhlxm0000gn/T/ipykernel_51916/2592413274.py:15: DtypeWarning: Columns (11) have mixed types. Specify dtype option on import or set low_memory=False.\n",
      "  f = pd.read_csv(os.path.join(raw_data_dir, file))\n"
     ]
    },
    {
     "name": "stdout",
     "output_type": "stream",
     "text": [
      "Trying to process Medicare_Physician_Other_Practitioners_by_Provider_and_Service_2017.csv\n"
     ]
    },
    {
     "name": "stderr",
     "output_type": "stream",
     "text": [
      "/var/folders/jv/hvl4bxhn45d10f4fq__lhlxm0000gn/T/ipykernel_51916/2592413274.py:15: DtypeWarning: Columns (11) have mixed types. Specify dtype option on import or set low_memory=False.\n",
      "  f = pd.read_csv(os.path.join(raw_data_dir, file))\n"
     ]
    },
    {
     "name": "stdout",
     "output_type": "stream",
     "text": [
      "Trying to process Medicare_Physician_Other_Practitioners_by_Provider_and_Service_2015.csv\n"
     ]
    },
    {
     "name": "stderr",
     "output_type": "stream",
     "text": [
      "/var/folders/jv/hvl4bxhn45d10f4fq__lhlxm0000gn/T/ipykernel_51916/2592413274.py:15: DtypeWarning: Columns (11) have mixed types. Specify dtype option on import or set low_memory=False.\n",
      "  f = pd.read_csv(os.path.join(raw_data_dir, file))\n"
     ]
    },
    {
     "name": "stdout",
     "output_type": "stream",
     "text": [
      "Trying to process Medicare_Physician_Other_Practitioners_by_Provider_and_Service_2014.csv\n"
     ]
    },
    {
     "name": "stderr",
     "output_type": "stream",
     "text": [
      "/var/folders/jv/hvl4bxhn45d10f4fq__lhlxm0000gn/T/ipykernel_51916/2592413274.py:15: DtypeWarning: Columns (11) have mixed types. Specify dtype option on import or set low_memory=False.\n",
      "  f = pd.read_csv(os.path.join(raw_data_dir, file))\n"
     ]
    },
    {
     "name": "stdout",
     "output_type": "stream",
     "text": [
      "Trying to process Medicare_Physician_Other_Practitioners_by_Provider_and_Service_2013.csv\n"
     ]
    },
    {
     "name": "stderr",
     "output_type": "stream",
     "text": [
      "/var/folders/jv/hvl4bxhn45d10f4fq__lhlxm0000gn/T/ipykernel_51916/2592413274.py:15: DtypeWarning: Columns (11) have mixed types. Specify dtype option on import or set low_memory=False.\n",
      "  f = pd.read_csv(os.path.join(raw_data_dir, file))\n"
     ]
    }
   ],
   "source": [
    "spine_data, neurovasc_data, all_data = [], [], []\n",
    "\n",
    "all_spine_cpt = []\n",
    "for category in cpt_spine.values():\n",
    "    all_spine_cpt.extend([code for code in category if code not in ignore_codes])\n",
    "\n",
    "all_neurovasc_cpt = []\n",
    "for category in cpt_neurovasc.values():\n",
    "    all_neurovasc_cpt.extend([code for code in category if code not in ignore_codes])\n",
    "\n",
    "raw_data_dir = os.path.join(current_dir, \"medicare-dataset\")\n",
    "for file in os.listdir(raw_data_dir):\n",
    "    print(f\"Trying to process {file}\")\n",
    "    try:\n",
    "        f = pd.read_csv(os.path.join(raw_data_dir, file))\n",
    "        nsg_only = f[f['Rndrng_Prvdr_Type'] == 'Neurosurgery'].reset_index(drop=True)\n",
    "\n",
    "        year = int(file.replace(\".csv\", \"\")[-4:])\n",
    "        nsg_only['year'] = year\n",
    "    \n",
    "        spine_data.append(nsg_only[nsg_only['HCPCS_Cd'].isin(all_spine_cpt)].reset_index(drop=True))\n",
    "        neurovasc_data.append(nsg_only[nsg_only['HCPCS_Cd'].isin(all_neurovasc_cpt)].reset_index(drop=True))\n",
    "        all_data.append(nsg_only)\n",
    "    except:\n",
    "        print(f\"Unable to process {file}\")\n",
    "        traceback.format_exc()\n",
    "        \n",
    "spine_data = pd.concat(spine_data, ignore_index=True)\n",
    "neurovasc_data = pd.concat(neurovasc_data, ignore_index=True)\n",
    "all_data = pd.concat(all_data)"
   ]
  },
  {
   "cell_type": "code",
   "execution_count": 26,
   "id": "6b0e5563-e38a-4575-9922-420bc391a8a5",
   "metadata": {},
   "outputs": [
    {
     "data": {
      "text/plain": [
       "((120099, 29), (4370, 29))"
      ]
     },
     "execution_count": 26,
     "metadata": {},
     "output_type": "execute_result"
    }
   ],
   "source": [
    "spine_data.shape, neurovasc_data.shape"
   ]
  },
  {
   "cell_type": "code",
   "execution_count": 161,
   "id": "19a5cd6b-a606-4bd8-9068-1ddbd238ec59",
   "metadata": {},
   "outputs": [],
   "source": [
    "spine_data.to_csv(os.path.join(current_dir, \"processed-data\", \"spine_cpt_processed.csv\"), index=False)"
   ]
  },
  {
   "cell_type": "code",
   "execution_count": 20,
   "id": "4ed79f4e-253e-4c02-a05a-3b3cea39ea25",
   "metadata": {},
   "outputs": [],
   "source": [
    "neurovasc_data.to_csv(os.path.join(current_dir, \"processed-data\", \"neurovasc_cpt_processed.csv\"), index=False)"
   ]
  },
  {
   "cell_type": "code",
   "execution_count": 12,
   "id": "dc82ed82-b66f-43ed-b95a-e02ef5cd11e9",
   "metadata": {},
   "outputs": [],
   "source": [
    "total_counts = all_data.groupby('Rndrng_NPI')['Tot_Srvcs'].sum().rename('total_services').reset_index()"
   ]
  },
  {
   "cell_type": "code",
   "execution_count": 164,
   "id": "5ddbabb8-3932-419f-b51b-50590b8d571c",
   "metadata": {},
   "outputs": [],
   "source": [
    "interest_counts = spine_data.groupby('Rndrng_NPI')['Tot_Srvcs'].sum().rename('total_spine_services').reset_index()\n",
    "summary = interest_counts.merge(total_counts, how=\"outer\", on=\"Rndrng_NPI\").fillna(0)\n",
    "summary['fraction_spine'] = summary['total_spine_services'] / summary['total_services']"
   ]
  },
  {
   "cell_type": "code",
   "execution_count": 165,
   "id": "4f3c68a8-93f7-4dcc-b75e-75d1c78de1a2",
   "metadata": {},
   "outputs": [],
   "source": [
    "summary.to_csv(os.path.join(current_dir, \"processed-data\", \"spine_counts.csv\"), index=False)"
   ]
  },
  {
   "cell_type": "code",
   "execution_count": 21,
   "id": "f5020833-1e55-41dd-a342-2160363ea8f2",
   "metadata": {},
   "outputs": [],
   "source": [
    "interest_counts = neurovasc_data.groupby('Rndrng_NPI')['Tot_Srvcs'].sum().rename('total_neurovasc_services').reset_index()\n",
    "summary = interest_counts.merge(total_counts, how=\"outer\", on=\"Rndrng_NPI\").fillna(0)\n",
    "summary['fraction_neurovasc'] = summary['total_neurovasc_services'] / summary['total_services']"
   ]
  },
  {
   "cell_type": "code",
   "execution_count": 22,
   "id": "6fa60560-9c04-4842-8511-bfc61ac5e076",
   "metadata": {},
   "outputs": [],
   "source": [
    "summary.to_csv(os.path.join(current_dir, \"processed-data\", \"neurovasc_counts.csv\"), index=False)"
   ]
  },
  {
   "cell_type": "markdown",
   "id": "1ebe2259-d642-4f29-8a0a-ea373eec5867",
   "metadata": {},
   "source": [
    "# Load Data"
   ]
  },
  {
   "cell_type": "code",
   "execution_count": 168,
   "id": "f51480bf-7758-482c-9683-2e7695dae091",
   "metadata": {},
   "outputs": [],
   "source": [
    "f = pd.read_csv(os.path.join(current_dir, \"processed-data\", \"spine_counts.csv\"))"
   ]
  },
  {
   "cell_type": "code",
   "execution_count": 169,
   "id": "89778b41-2969-4d32-89c0-da0b833aa04b",
   "metadata": {},
   "outputs": [
    {
     "data": {
      "text/plain": [
       "3500490.0"
      ]
     },
     "execution_count": 169,
     "metadata": {},
     "output_type": "execute_result"
    }
   ],
   "source": [
    "denom = f['total_spine_services'].sum()\n",
    "denom"
   ]
  },
  {
   "cell_type": "code",
   "execution_count": 170,
   "id": "48a4aff6-3c84-4f1f-ba8e-c801d4b0ab7f",
   "metadata": {},
   "outputs": [
    {
     "data": {
      "image/png": "[encoded data removed]",
      "text/plain": [
       "<Figure size 1400x400 with 2 Axes>"
      ]
     },
     "metadata": {},
     "output_type": "display_data"
    }
   ],
   "source": [
    "fig, axs = plt.subplots(1, 2, figsize=(14, 4)) \n",
    "\n",
    "axs[0].hist(f['total_spine_services'] / denom * 100, bins=100)\n",
    "axs[0].set_title(\"Spine procedures by percent of TOTAL spine procedures\\n(e.g. total volume of spine procedures across all years and providers)\")\n",
    "axs[0].set_xlabel(\"% spine procedures\")\n",
    "axs[0].set_ylabel(\"# providers\")\n",
    "\n",
    "axs[1].hist(f['total_spine_services'], bins=100)\n",
    "axs[1].set_title(\"Raw # of spine procedures performed per provider\")\n",
    "axs[1].set_xlabel(\"# spine procedures\")\n",
    "axs[1].set_ylabel(\"# providers\")\n",
    "\n",
    "plt.tight_layout()"
   ]
  },
  {
   "cell_type": "code",
   "execution_count": 171,
   "id": "cd4bc1e0-8177-4257-b7de-00c4a4155876",
   "metadata": {},
   "outputs": [],
   "source": [
    "cumsum = np.cumsum(sorted(f['total_spine_services'] / denom, reverse=True))\n",
    "idx = np.searchsorted(cumsum, 0.5, side='right')"
   ]
  },
  {
   "cell_type": "code",
   "execution_count": 172,
   "id": "d60f373a-cf84-47da-89e3-95a9ed6e30b9",
   "metadata": {},
   "outputs": [
    {
     "name": "stdout",
     "output_type": "stream",
     "text": [
      "Number of providers accounting for 50% of the spine surgery volume: 508\n"
     ]
    }
   ],
   "source": [
    "print(f\"Number of providers accounting for 50% of the spine surgery volume: {idx}\")"
   ]
  },
  {
   "cell_type": "code",
   "execution_count": 174,
   "id": "46cd8eae-b04a-45fd-91a5-bf8eb6c73268",
   "metadata": {},
   "outputs": [
    {
     "data": {
      "image/png": "[encoded data removed]",
      "text/plain": [
       "<Figure size 1400x400 with 2 Axes>"
      ]
     },
     "metadata": {},
     "output_type": "display_data"
    }
   ],
   "source": [
    "fig, axs = plt.subplots(1, 2, figsize=(14, 4)) \n",
    "\n",
    "f_filtered = f[f['total_spine_services'] > 100].reset_index(drop=True)\n",
    "\n",
    "axs[0].hist(f_filtered['total_spine_services'] / denom * 100, bins=200)\n",
    "axs[0].set_title(\"Spine procedures by percent (for providers who performed\\nat least 1 spine procedure)\")\n",
    "axs[0].set_xlabel(\"% spine procedures\")\n",
    "axs[0].set_ylabel(\"# providers\")\n",
    "\n",
    "axs[1].hist(f_filtered['total_spine_services'], bins=200)\n",
    "axs[1].set_title(\"Raw # of spine procedures\")\n",
    "axs[1].set_xlabel(\"# spine procedures\")\n",
    "axs[1].set_ylabel(\"# providers\")\n",
    "\n",
    "plt.tight_layout()"
   ]
  },
  {
   "cell_type": "code",
   "execution_count": 175,
   "id": "b8a932b3-2002-49a6-a76c-fcaeb21289a1",
   "metadata": {},
   "outputs": [
    {
     "data": {
      "text/plain": [
       "(2961, 4)"
      ]
     },
     "execution_count": 175,
     "metadata": {},
     "output_type": "execute_result"
    }
   ],
   "source": [
    "f_filtered.shape"
   ]
  },
  {
   "cell_type": "code",
   "execution_count": 176,
   "id": "e83a1bc8-4b5f-4338-bcac-3d178651154c",
   "metadata": {},
   "outputs": [
    {
     "data": {
      "image/png": "[encoded data removed]",
      "text/plain": [
       "<Figure size 1400x400 with 2 Axes>"
      ]
     },
     "metadata": {},
     "output_type": "display_data"
    }
   ],
   "source": [
    "fig, axs = plt.subplots(1, 2, figsize=(14, 4)) \n",
    "\n",
    "axs[0].hist(f['fraction_spine'] * 100, bins=100)\n",
    "axs[0].set_title(\"Spine procedures by percent\")\n",
    "axs[0].set_xlabel(\"% spine procedures\")\n",
    "axs[0].set_ylabel(\"# providers\")\n",
    "\n",
    "axs[1].hist(f['total_spine_services'], bins=100)\n",
    "axs[1].set_title(\"Raw # of spine procedures\")\n",
    "axs[1].set_xlabel(\"# spine procedures\")\n",
    "axs[0].set_ylabel(\"# providers\")\n",
    "\n",
    "plt.tight_layout()"
   ]
  },
  {
   "cell_type": "code",
   "execution_count": 177,
   "id": "03727d03-dbee-43d7-8617-9c4942de2097",
   "metadata": {},
   "outputs": [
    {
     "data": {
      "image/png": "[encoded data removed]",
      "text/plain": [
       "<Figure size 1400x400 with 2 Axes>"
      ]
     },
     "metadata": {},
     "output_type": "display_data"
    }
   ],
   "source": [
    "fig, axs = plt.subplots(1, 2, figsize=(14, 4)) \n",
    "\n",
    "f_filtered = f[f['fraction_spine'] > 0].reset_index(drop=True)\n",
    "\n",
    "axs[0].hist(f_filtered['fraction_spine'] * 100, bins=200)\n",
    "axs[0].set_title(\"Percent of PROVIDER'S procedures which were spine procedures\\n(for providers who performed at least 1 spine procedure)\")\n",
    "axs[0].set_xlabel(\"% spine procedures\")\n",
    "axs[0].set_ylabel(\"# providers\")\n",
    "\n",
    "axs[1].hist(f_filtered['total_spine_services'], bins=200)\n",
    "axs[1].set_title(\"Raw # of spine procedures\")\n",
    "axs[1].set_xlabel(\"# spine procedures\")\n",
    "axs[1].set_ylabel(\"# providers\")\n",
    "\n",
    "plt.tight_layout()"
   ]
  },
  {
   "cell_type": "code",
   "execution_count": 178,
   "id": "aec58aa7-129f-4f4c-a815-2f162e4c7dfb",
   "metadata": {},
   "outputs": [],
   "source": [
    "f_neurovasc = pd.read_csv(os.path.join(current_dir, \"processed-data\", \"neurovasc_counts.csv\"))"
   ]
  },
  {
   "cell_type": "code",
   "execution_count": 179,
   "id": "aa321974-0a6a-4d0f-8318-02a8da84ecda",
   "metadata": {},
   "outputs": [
    {
     "data": {
      "text/plain": [
       "81682.0"
      ]
     },
     "execution_count": 179,
     "metadata": {},
     "output_type": "execute_result"
    }
   ],
   "source": [
    "denom = f_neurovasc['total_neurovasc_services'].sum()\n",
    "denom"
   ]
  },
  {
   "cell_type": "code",
   "execution_count": 180,
   "id": "7d939128-e2cc-4df0-89f5-ae34b90f465d",
   "metadata": {},
   "outputs": [
    {
     "data": {
      "image/png": "[encoded data removed]",
      "text/plain": [
       "<Figure size 1400x400 with 2 Axes>"
      ]
     },
     "metadata": {},
     "output_type": "display_data"
    }
   ],
   "source": [
    "fig, axs = plt.subplots(1, 2, figsize=(14, 4)) \n",
    "\n",
    "# f_filtered = f_neurovasc[f_neurovasc['total_neurovasc_services'] > 0].reset_index(drop=True)\n",
    "\n",
    "axs[0].hist(f_neurovasc['total_neurovasc_services'] / denom * 100, bins=100)\n",
    "axs[0].set_title(\"Neurovasc procedures by percent of TOTAL neurovasc procedures\\n(e.g. total volume of neurovasc procedures across all years and providers)\")\n",
    "axs[0].set_xlabel(\"% neurovasc procedures\")\n",
    "axs[0].set_ylabel(\"# providers\")\n",
    "\n",
    "axs[1].hist(f_neurovasc['total_neurovasc_services'], bins=100)\n",
    "axs[1].set_title(\"Raw # of neurovasc procedures performed per provider\")\n",
    "axs[1].set_xlabel(\"# neurovasc procedures\")\n",
    "axs[1].set_ylabel(\"# providers\")\n",
    "\n",
    "plt.tight_layout()"
   ]
  },
  {
   "cell_type": "code",
   "execution_count": 181,
   "id": "beaf8d8f-a1da-46a3-9c8e-593b1b698ab0",
   "metadata": {},
   "outputs": [
    {
     "data": {
      "image/png": "[encoded data removed]",
      "text/plain": [
       "<Figure size 1400x400 with 2 Axes>"
      ]
     },
     "metadata": {},
     "output_type": "display_data"
    }
   ],
   "source": [
    "fig, axs = plt.subplots(1, 2, figsize=(14, 4)) \n",
    "\n",
    "f_filtered = f_neurovasc[f_neurovasc['fraction_neurovasc'] > 0].reset_index(drop=True)\n",
    "\n",
    "axs[0].hist(f_filtered['fraction_neurovasc'] * 100, bins=200)\n",
    "axs[0].set_title(\"Percent of PROVIDER'S procedures which were neurovasc procedures\\n(for providers who performed at least 1 neurovasc procedure)\")\n",
    "axs[0].set_xlabel(\"% neurovasc procedures\")\n",
    "axs[0].set_ylabel(\"# providers\")\n",
    "\n",
    "axs[1].hist(f_filtered['total_neurovasc_services'], bins=200)\n",
    "axs[1].set_title(\"Raw # of neurovasc procedures\")\n",
    "axs[1].set_xlabel(\"# neurovasc procedures\")\n",
    "axs[1].set_ylabel(\"# providers\")\n",
    "\n",
    "plt.tight_layout()"
   ]
  },
  {
   "cell_type": "code",
   "execution_count": 127,
   "id": "bcb8e6d6-e56f-42f4-aa7e-6f4cb40cf2c8",
   "metadata": {},
   "outputs": [
    {
     "name": "stdout",
     "output_type": "stream",
     "text": [
      "Trying to process Medicare_Physician_Other_Practitioners_by_Provider_and_Service_2023.csv\n"
     ]
    },
    {
     "name": "stderr",
     "output_type": "stream",
     "text": [
      "/var/folders/jv/hvl4bxhn45d10f4fq__lhlxm0000gn/T/ipykernel_33616/427677565.py:8: DtypeWarning: Columns (10,11) have mixed types. Specify dtype option on import or set low_memory=False.\n",
      "  f = pd.read_csv(os.path.join(raw_data_dir, file))\n"
     ]
    },
    {
     "name": "stdout",
     "output_type": "stream",
     "text": [
      "Trying to process Medicare_Physician_Other_Practitioners_by_Provider_and_Service_2022.csv\n"
     ]
    },
    {
     "name": "stderr",
     "output_type": "stream",
     "text": [
      "/var/folders/jv/hvl4bxhn45d10f4fq__lhlxm0000gn/T/ipykernel_33616/427677565.py:8: DtypeWarning: Columns (10,11) have mixed types. Specify dtype option on import or set low_memory=False.\n",
      "  f = pd.read_csv(os.path.join(raw_data_dir, file))\n"
     ]
    },
    {
     "name": "stdout",
     "output_type": "stream",
     "text": [
      "Trying to process Medicare_Physician_Other_Practitioners_by_Provider_and_Service_2020.csv\n"
     ]
    },
    {
     "name": "stderr",
     "output_type": "stream",
     "text": [
      "/var/folders/jv/hvl4bxhn45d10f4fq__lhlxm0000gn/T/ipykernel_33616/427677565.py:8: DtypeWarning: Columns (10,11) have mixed types. Specify dtype option on import or set low_memory=False.\n",
      "  f = pd.read_csv(os.path.join(raw_data_dir, file))\n"
     ]
    },
    {
     "name": "stdout",
     "output_type": "stream",
     "text": [
      "Trying to process Medicare_Physician_Other_Practitioners_by_Provider_and_Service_2021.csv\n"
     ]
    },
    {
     "name": "stderr",
     "output_type": "stream",
     "text": [
      "/var/folders/jv/hvl4bxhn45d10f4fq__lhlxm0000gn/T/ipykernel_33616/427677565.py:8: DtypeWarning: Columns (10,11) have mixed types. Specify dtype option on import or set low_memory=False.\n",
      "  f = pd.read_csv(os.path.join(raw_data_dir, file))\n"
     ]
    },
    {
     "name": "stdout",
     "output_type": "stream",
     "text": [
      "Trying to process Medicare_Physician_Other_Practitioners_by_Provider_and_Service_2019.csv\n"
     ]
    },
    {
     "name": "stderr",
     "output_type": "stream",
     "text": [
      "/var/folders/jv/hvl4bxhn45d10f4fq__lhlxm0000gn/T/ipykernel_33616/427677565.py:8: DtypeWarning: Columns (11) have mixed types. Specify dtype option on import or set low_memory=False.\n",
      "  f = pd.read_csv(os.path.join(raw_data_dir, file))\n"
     ]
    },
    {
     "name": "stdout",
     "output_type": "stream",
     "text": [
      "Trying to process .DS_Store\n",
      "Unable to process .DS_Store\n",
      "Trying to process Medicare_Physician_Other_Practitioners_by_Provider_and_Service_2018.csv\n"
     ]
    },
    {
     "name": "stderr",
     "output_type": "stream",
     "text": [
      "/var/folders/jv/hvl4bxhn45d10f4fq__lhlxm0000gn/T/ipykernel_33616/427677565.py:8: DtypeWarning: Columns (11) have mixed types. Specify dtype option on import or set low_memory=False.\n",
      "  f = pd.read_csv(os.path.join(raw_data_dir, file))\n"
     ]
    },
    {
     "name": "stdout",
     "output_type": "stream",
     "text": [
      "Trying to process Medicare_Physician_Other_Practitioners_by_Provider_and_Service_2016.csv\n"
     ]
    },
    {
     "name": "stderr",
     "output_type": "stream",
     "text": [
      "/var/folders/jv/hvl4bxhn45d10f4fq__lhlxm0000gn/T/ipykernel_33616/427677565.py:8: DtypeWarning: Columns (11) have mixed types. Specify dtype option on import or set low_memory=False.\n",
      "  f = pd.read_csv(os.path.join(raw_data_dir, file))\n"
     ]
    },
    {
     "name": "stdout",
     "output_type": "stream",
     "text": [
      "Trying to process Medicare_Physician_Other_Practitioners_by_Provider_and_Service_2017.csv\n"
     ]
    },
    {
     "name": "stderr",
     "output_type": "stream",
     "text": [
      "/var/folders/jv/hvl4bxhn45d10f4fq__lhlxm0000gn/T/ipykernel_33616/427677565.py:8: DtypeWarning: Columns (11) have mixed types. Specify dtype option on import or set low_memory=False.\n",
      "  f = pd.read_csv(os.path.join(raw_data_dir, file))\n"
     ]
    },
    {
     "name": "stdout",
     "output_type": "stream",
     "text": [
      "Trying to process Medicare_Physician_Other_Practitioners_by_Provider_and_Service_2015.csv\n"
     ]
    },
    {
     "name": "stderr",
     "output_type": "stream",
     "text": [
      "/var/folders/jv/hvl4bxhn45d10f4fq__lhlxm0000gn/T/ipykernel_33616/427677565.py:8: DtypeWarning: Columns (11) have mixed types. Specify dtype option on import or set low_memory=False.\n",
      "  f = pd.read_csv(os.path.join(raw_data_dir, file))\n"
     ]
    },
    {
     "name": "stdout",
     "output_type": "stream",
     "text": [
      "Trying to process Medicare_Physician_Other_Practitioners_by_Provider_and_Service_2014.csv\n"
     ]
    },
    {
     "name": "stderr",
     "output_type": "stream",
     "text": [
      "/var/folders/jv/hvl4bxhn45d10f4fq__lhlxm0000gn/T/ipykernel_33616/427677565.py:8: DtypeWarning: Columns (11) have mixed types. Specify dtype option on import or set low_memory=False.\n",
      "  f = pd.read_csv(os.path.join(raw_data_dir, file))\n"
     ]
    },
    {
     "name": "stdout",
     "output_type": "stream",
     "text": [
      "Trying to process Medicare_Physician_Other_Practitioners_by_Provider_and_Service_2013.csv\n"
     ]
    },
    {
     "name": "stderr",
     "output_type": "stream",
     "text": [
      "/var/folders/jv/hvl4bxhn45d10f4fq__lhlxm0000gn/T/ipykernel_33616/427677565.py:8: DtypeWarning: Columns (11) have mixed types. Specify dtype option on import or set low_memory=False.\n",
      "  f = pd.read_csv(os.path.join(raw_data_dir, file))\n"
     ]
    }
   ],
   "source": [
    "all_neurovasc_data = []\n",
    "all_spine_data = []\n",
    "\n",
    "raw_data_dir = os.path.join(current_dir, \"medicare-dataset\")\n",
    "for file in os.listdir(raw_data_dir):\n",
    "    print(f\"Trying to process {file}\")\n",
    "    try:\n",
    "        f = pd.read_csv(os.path.join(raw_data_dir, file))\n",
    "        f['year'] = int(file.replace(\".csv\", \"\")[-4:])\n",
    "    \n",
    "        all_neurovasc_data.append(f[f['HCPCS_Cd'].isin(all_neurovasc_cpt)].reset_index(drop=True))\n",
    "        all_spine_data.append(f[f['HCPCS_Cd'].isin(all_spine_cpt)].reset_index(drop=True))\n",
    "    except:\n",
    "        print(f\"Unable to process {file}\")\n",
    "        traceback.format_exc()\n",
    "        \n",
    "all_neurovasc_data = pd.concat(all_neurovasc_data, ignore_index=True)\n",
    "all_spine_data = pd.concat(all_spine_data, ignore_index=True)"
   ]
  },
  {
   "cell_type": "code",
   "execution_count": 128,
   "id": "8942bb07-8e08-42a3-8da5-d902cad031ab",
   "metadata": {},
   "outputs": [],
   "source": [
    "all_neurovasc_data.to_csv(os.path.join(current_dir, \"processed-data\", \"neurovasc_cpt_processed_all_specialities.csv\"), index=False)\n",
    "all_spine_data.to_csv(os.path.join(current_dir, \"processed-data\", \"spine_cpt_processed_all_specialities.csv\"), index=False)"
   ]
  },
  {
   "cell_type": "code",
   "execution_count": 126,
   "id": "127748fe-5390-4f75-a917-4d62fce131bb",
   "metadata": {},
   "outputs": [
    {
     "data": {
      "text/html": [
       "<div>\n",
       "<style scoped>\n",
       "    .dataframe tbody tr th:only-of-type {\n",
       "        vertical-align: middle;\n",
       "    }\n",
       "\n",
       "    .dataframe tbody tr th {\n",
       "        vertical-align: top;\n",
       "    }\n",
       "\n",
       "    .dataframe thead th {\n",
       "        text-align: right;\n",
       "    }\n",
       "</style>\n",
       "<table border=\"1\" class=\"dataframe\">\n",
       "  <thead>\n",
       "    <tr style=\"text-align: right;\">\n",
       "      <th></th>\n",
       "      <th>Rndrng_Prvdr_Type</th>\n",
       "      <th>0</th>\n",
       "    </tr>\n",
       "  </thead>\n",
       "  <tbody>\n",
       "    <tr>\n",
       "      <th>0</th>\n",
       "      <td>Cardiology</td>\n",
       "      <td>10</td>\n",
       "    </tr>\n",
       "    <tr>\n",
       "      <th>1</th>\n",
       "      <td>Cardiovascular Disease (Cardiology)</td>\n",
       "      <td>3</td>\n",
       "    </tr>\n",
       "    <tr>\n",
       "      <th>2</th>\n",
       "      <td>Critical Care (Intensivists)</td>\n",
       "      <td>1</td>\n",
       "    </tr>\n",
       "    <tr>\n",
       "      <th>3</th>\n",
       "      <td>Diagnostic Radiology</td>\n",
       "      <td>473</td>\n",
       "    </tr>\n",
       "    <tr>\n",
       "      <th>4</th>\n",
       "      <td>General Surgery</td>\n",
       "      <td>1</td>\n",
       "    </tr>\n",
       "    <tr>\n",
       "      <th>5</th>\n",
       "      <td>Interventional Cardiology</td>\n",
       "      <td>1</td>\n",
       "    </tr>\n",
       "    <tr>\n",
       "      <th>6</th>\n",
       "      <td>Interventional Pain Management</td>\n",
       "      <td>4</td>\n",
       "    </tr>\n",
       "    <tr>\n",
       "      <th>7</th>\n",
       "      <td>Interventional Radiology</td>\n",
       "      <td>281</td>\n",
       "    </tr>\n",
       "    <tr>\n",
       "      <th>8</th>\n",
       "      <td>Neurology</td>\n",
       "      <td>246</td>\n",
       "    </tr>\n",
       "    <tr>\n",
       "      <th>9</th>\n",
       "      <td>Neuropsychiatry</td>\n",
       "      <td>7</td>\n",
       "    </tr>\n",
       "    <tr>\n",
       "      <th>10</th>\n",
       "      <td>Neurosurgery</td>\n",
       "      <td>1164</td>\n",
       "    </tr>\n",
       "    <tr>\n",
       "      <th>11</th>\n",
       "      <td>Nuclear Medicine</td>\n",
       "      <td>2</td>\n",
       "    </tr>\n",
       "    <tr>\n",
       "      <th>12</th>\n",
       "      <td>Orthopedic Surgery</td>\n",
       "      <td>1</td>\n",
       "    </tr>\n",
       "    <tr>\n",
       "      <th>13</th>\n",
       "      <td>Pediatric Medicine</td>\n",
       "      <td>1</td>\n",
       "    </tr>\n",
       "    <tr>\n",
       "      <th>14</th>\n",
       "      <td>Radiation Oncology</td>\n",
       "      <td>3</td>\n",
       "    </tr>\n",
       "    <tr>\n",
       "      <th>15</th>\n",
       "      <td>Thoracic Surgery</td>\n",
       "      <td>7</td>\n",
       "    </tr>\n",
       "    <tr>\n",
       "      <th>16</th>\n",
       "      <td>Vascular Surgery</td>\n",
       "      <td>2</td>\n",
       "    </tr>\n",
       "  </tbody>\n",
       "</table>\n",
       "</div>"
      ],
      "text/plain": [
       "                      Rndrng_Prvdr_Type     0\n",
       "0                            Cardiology    10\n",
       "1   Cardiovascular Disease (Cardiology)     3\n",
       "2          Critical Care (Intensivists)     1\n",
       "3                  Diagnostic Radiology   473\n",
       "4                       General Surgery     1\n",
       "5             Interventional Cardiology     1\n",
       "6        Interventional Pain Management     4\n",
       "7              Interventional Radiology   281\n",
       "8                             Neurology   246\n",
       "9                       Neuropsychiatry     7\n",
       "10                         Neurosurgery  1164\n",
       "11                     Nuclear Medicine     2\n",
       "12                   Orthopedic Surgery     1\n",
       "13                   Pediatric Medicine     1\n",
       "14                   Radiation Oncology     3\n",
       "15                     Thoracic Surgery     7\n",
       "16                     Vascular Surgery     2"
      ]
     },
     "execution_count": 126,
     "metadata": {},
     "output_type": "execute_result"
    }
   ],
   "source": [
    "all_neurovasc_data.groupby('Rndrng_Prvdr_Type').size().reset_index()"
   ]
  },
  {
   "cell_type": "code",
   "execution_count": 129,
   "id": "62cb05bb-e3e0-4fc1-b22b-434d4d4bb758",
   "metadata": {},
   "outputs": [
    {
     "data": {
      "text/html": [
       "<div>\n",
       "<style scoped>\n",
       "    .dataframe tbody tr th:only-of-type {\n",
       "        vertical-align: middle;\n",
       "    }\n",
       "\n",
       "    .dataframe tbody tr th {\n",
       "        vertical-align: top;\n",
       "    }\n",
       "\n",
       "    .dataframe thead th {\n",
       "        text-align: right;\n",
       "    }\n",
       "</style>\n",
       "<table border=\"1\" class=\"dataframe\">\n",
       "  <thead>\n",
       "    <tr style=\"text-align: right;\">\n",
       "      <th></th>\n",
       "      <th>Rndrng_Prvdr_Type</th>\n",
       "      <th>0</th>\n",
       "    </tr>\n",
       "  </thead>\n",
       "  <tbody>\n",
       "    <tr>\n",
       "      <th>0</th>\n",
       "      <td>Ambulatory Surgical Center</td>\n",
       "      <td>1323</td>\n",
       "    </tr>\n",
       "    <tr>\n",
       "      <th>1</th>\n",
       "      <td>Anesthesiology</td>\n",
       "      <td>38</td>\n",
       "    </tr>\n",
       "    <tr>\n",
       "      <th>2</th>\n",
       "      <td>Cardiac Surgery</td>\n",
       "      <td>61</td>\n",
       "    </tr>\n",
       "    <tr>\n",
       "      <th>3</th>\n",
       "      <td>Cardiology</td>\n",
       "      <td>9</td>\n",
       "    </tr>\n",
       "    <tr>\n",
       "      <th>4</th>\n",
       "      <td>Certified Clinical Nurse Specialist</td>\n",
       "      <td>67</td>\n",
       "    </tr>\n",
       "    <tr>\n",
       "      <th>5</th>\n",
       "      <td>Clinic or Group Practice</td>\n",
       "      <td>2</td>\n",
       "    </tr>\n",
       "    <tr>\n",
       "      <th>6</th>\n",
       "      <td>Critical Care (Intensivists)</td>\n",
       "      <td>12</td>\n",
       "    </tr>\n",
       "    <tr>\n",
       "      <th>7</th>\n",
       "      <td>Diagnostic Radiology</td>\n",
       "      <td>2</td>\n",
       "    </tr>\n",
       "    <tr>\n",
       "      <th>8</th>\n",
       "      <td>Emergency Medicine</td>\n",
       "      <td>42</td>\n",
       "    </tr>\n",
       "    <tr>\n",
       "      <th>9</th>\n",
       "      <td>Family Practice</td>\n",
       "      <td>79</td>\n",
       "    </tr>\n",
       "    <tr>\n",
       "      <th>10</th>\n",
       "      <td>Gastroenterology</td>\n",
       "      <td>3</td>\n",
       "    </tr>\n",
       "    <tr>\n",
       "      <th>11</th>\n",
       "      <td>General Practice</td>\n",
       "      <td>80</td>\n",
       "    </tr>\n",
       "    <tr>\n",
       "      <th>12</th>\n",
       "      <td>General Surgery</td>\n",
       "      <td>1290</td>\n",
       "    </tr>\n",
       "    <tr>\n",
       "      <th>13</th>\n",
       "      <td>Hand Surgery</td>\n",
       "      <td>7</td>\n",
       "    </tr>\n",
       "    <tr>\n",
       "      <th>14</th>\n",
       "      <td>Internal Medicine</td>\n",
       "      <td>39</td>\n",
       "    </tr>\n",
       "    <tr>\n",
       "      <th>15</th>\n",
       "      <td>Interventional Pain Management</td>\n",
       "      <td>62</td>\n",
       "    </tr>\n",
       "    <tr>\n",
       "      <th>16</th>\n",
       "      <td>Interventional Radiology</td>\n",
       "      <td>17</td>\n",
       "    </tr>\n",
       "    <tr>\n",
       "      <th>17</th>\n",
       "      <td>Multispecialty Clinic/Group Practice</td>\n",
       "      <td>3</td>\n",
       "    </tr>\n",
       "    <tr>\n",
       "      <th>18</th>\n",
       "      <td>Nephrology</td>\n",
       "      <td>8</td>\n",
       "    </tr>\n",
       "    <tr>\n",
       "      <th>19</th>\n",
       "      <td>Neurology</td>\n",
       "      <td>453</td>\n",
       "    </tr>\n",
       "    <tr>\n",
       "      <th>20</th>\n",
       "      <td>Neuropsychiatry</td>\n",
       "      <td>37</td>\n",
       "    </tr>\n",
       "    <tr>\n",
       "      <th>21</th>\n",
       "      <td>Neurosurgery</td>\n",
       "      <td>39767</td>\n",
       "    </tr>\n",
       "    <tr>\n",
       "      <th>22</th>\n",
       "      <td>Nurse Practitioner</td>\n",
       "      <td>5877</td>\n",
       "    </tr>\n",
       "    <tr>\n",
       "      <th>23</th>\n",
       "      <td>Obstetrics &amp; Gynecology</td>\n",
       "      <td>11</td>\n",
       "    </tr>\n",
       "    <tr>\n",
       "      <th>24</th>\n",
       "      <td>Obstetrics/Gynecology</td>\n",
       "      <td>2</td>\n",
       "    </tr>\n",
       "    <tr>\n",
       "      <th>25</th>\n",
       "      <td>Ophthalmology</td>\n",
       "      <td>1</td>\n",
       "    </tr>\n",
       "    <tr>\n",
       "      <th>26</th>\n",
       "      <td>Orthopedic Surgery</td>\n",
       "      <td>41131</td>\n",
       "    </tr>\n",
       "    <tr>\n",
       "      <th>27</th>\n",
       "      <td>Osteopathic Manipulative Medicine</td>\n",
       "      <td>69</td>\n",
       "    </tr>\n",
       "    <tr>\n",
       "      <th>28</th>\n",
       "      <td>Otolaryngology</td>\n",
       "      <td>12</td>\n",
       "    </tr>\n",
       "    <tr>\n",
       "      <th>29</th>\n",
       "      <td>Pain Management</td>\n",
       "      <td>67</td>\n",
       "    </tr>\n",
       "    <tr>\n",
       "      <th>30</th>\n",
       "      <td>Pediatric Medicine</td>\n",
       "      <td>2</td>\n",
       "    </tr>\n",
       "    <tr>\n",
       "      <th>31</th>\n",
       "      <td>Peripheral Vascular Disease</td>\n",
       "      <td>11</td>\n",
       "    </tr>\n",
       "    <tr>\n",
       "      <th>32</th>\n",
       "      <td>Physical Medicine and Rehabilitation</td>\n",
       "      <td>77</td>\n",
       "    </tr>\n",
       "    <tr>\n",
       "      <th>33</th>\n",
       "      <td>Physical Therapist</td>\n",
       "      <td>3</td>\n",
       "    </tr>\n",
       "    <tr>\n",
       "      <th>34</th>\n",
       "      <td>Physician Assistant</td>\n",
       "      <td>29723</td>\n",
       "    </tr>\n",
       "    <tr>\n",
       "      <th>35</th>\n",
       "      <td>Plastic and Reconstructive Surgery</td>\n",
       "      <td>30</td>\n",
       "    </tr>\n",
       "    <tr>\n",
       "      <th>36</th>\n",
       "      <td>Podiatry</td>\n",
       "      <td>4</td>\n",
       "    </tr>\n",
       "    <tr>\n",
       "      <th>37</th>\n",
       "      <td>Surgical Oncology</td>\n",
       "      <td>4</td>\n",
       "    </tr>\n",
       "    <tr>\n",
       "      <th>38</th>\n",
       "      <td>Thoracic Surgery</td>\n",
       "      <td>115</td>\n",
       "    </tr>\n",
       "    <tr>\n",
       "      <th>39</th>\n",
       "      <td>Undefined Physician type</td>\n",
       "      <td>57</td>\n",
       "    </tr>\n",
       "    <tr>\n",
       "      <th>40</th>\n",
       "      <td>Unknown Physician Specialty Code</td>\n",
       "      <td>11</td>\n",
       "    </tr>\n",
       "    <tr>\n",
       "      <th>41</th>\n",
       "      <td>Urology</td>\n",
       "      <td>9</td>\n",
       "    </tr>\n",
       "    <tr>\n",
       "      <th>42</th>\n",
       "      <td>Vascular Surgery</td>\n",
       "      <td>833</td>\n",
       "    </tr>\n",
       "  </tbody>\n",
       "</table>\n",
       "</div>"
      ],
      "text/plain": [
       "                       Rndrng_Prvdr_Type      0\n",
       "0             Ambulatory Surgical Center   1323\n",
       "1                         Anesthesiology     38\n",
       "2                        Cardiac Surgery     61\n",
       "3                             Cardiology      9\n",
       "4    Certified Clinical Nurse Specialist     67\n",
       "5               Clinic or Group Practice      2\n",
       "6           Critical Care (Intensivists)     12\n",
       "7                   Diagnostic Radiology      2\n",
       "8                     Emergency Medicine     42\n",
       "9                        Family Practice     79\n",
       "10                      Gastroenterology      3\n",
       "11                      General Practice     80\n",
       "12                       General Surgery   1290\n",
       "13                          Hand Surgery      7\n",
       "14                     Internal Medicine     39\n",
       "15        Interventional Pain Management     62\n",
       "16              Interventional Radiology     17\n",
       "17  Multispecialty Clinic/Group Practice      3\n",
       "18                            Nephrology      8\n",
       "19                             Neurology    453\n",
       "20                       Neuropsychiatry     37\n",
       "21                          Neurosurgery  39767\n",
       "22                    Nurse Practitioner   5877\n",
       "23               Obstetrics & Gynecology     11\n",
       "24                 Obstetrics/Gynecology      2\n",
       "25                         Ophthalmology      1\n",
       "26                    Orthopedic Surgery  41131\n",
       "27     Osteopathic Manipulative Medicine     69\n",
       "28                        Otolaryngology     12\n",
       "29                       Pain Management     67\n",
       "30                    Pediatric Medicine      2\n",
       "31           Peripheral Vascular Disease     11\n",
       "32  Physical Medicine and Rehabilitation     77\n",
       "33                    Physical Therapist      3\n",
       "34                   Physician Assistant  29723\n",
       "35    Plastic and Reconstructive Surgery     30\n",
       "36                              Podiatry      4\n",
       "37                     Surgical Oncology      4\n",
       "38                      Thoracic Surgery    115\n",
       "39              Undefined Physician type     57\n",
       "40      Unknown Physician Specialty Code     11\n",
       "41                               Urology      9\n",
       "42                      Vascular Surgery    833"
      ]
     },
     "execution_count": 129,
     "metadata": {},
     "output_type": "execute_result"
    }
   ],
   "source": [
    "all_spine_data.groupby('Rndrng_Prvdr_Type').size().reset_index()"
   ]
  },
  {
   "cell_type": "markdown",
   "id": "d8a0ffb7-6078-4812-9e86-128884d082b1",
   "metadata": {},
   "source": [
    "# Scratch"
   ]
  },
  {
   "cell_type": "code",
   "execution_count": 151,
   "id": "9cdb1213-5e1c-46f8-970c-561ce4f43f42",
   "metadata": {},
   "outputs": [
    {
     "name": "stdout",
     "output_type": "stream",
     "text": [
      "Trying to process Medicare_Physician_Other_Practitioners_by_Provider_and_Service_2023.csv\n"
     ]
    },
    {
     "name": "stderr",
     "output_type": "stream",
     "text": [
      "/var/folders/jv/hvl4bxhn45d10f4fq__lhlxm0000gn/T/ipykernel_33616/1564488762.py:8: DtypeWarning: Columns (10,11) have mixed types. Specify dtype option on import or set low_memory=False.\n",
      "  f = pd.read_csv(os.path.join(raw_data_dir, file))\n"
     ]
    },
    {
     "name": "stdout",
     "output_type": "stream",
     "text": [
      "Trying to process Medicare_Physician_Other_Practitioners_by_Provider_and_Service_2022.csv\n"
     ]
    },
    {
     "name": "stderr",
     "output_type": "stream",
     "text": [
      "/var/folders/jv/hvl4bxhn45d10f4fq__lhlxm0000gn/T/ipykernel_33616/1564488762.py:8: DtypeWarning: Columns (10,11) have mixed types. Specify dtype option on import or set low_memory=False.\n",
      "  f = pd.read_csv(os.path.join(raw_data_dir, file))\n"
     ]
    },
    {
     "name": "stdout",
     "output_type": "stream",
     "text": [
      "Trying to process Medicare_Physician_Other_Practitioners_by_Provider_and_Service_2020.csv\n"
     ]
    },
    {
     "name": "stderr",
     "output_type": "stream",
     "text": [
      "/var/folders/jv/hvl4bxhn45d10f4fq__lhlxm0000gn/T/ipykernel_33616/1564488762.py:8: DtypeWarning: Columns (10,11) have mixed types. Specify dtype option on import or set low_memory=False.\n",
      "  f = pd.read_csv(os.path.join(raw_data_dir, file))\n"
     ]
    },
    {
     "name": "stdout",
     "output_type": "stream",
     "text": [
      "Trying to process Medicare_Physician_Other_Practitioners_by_Provider_and_Service_2021.csv\n"
     ]
    },
    {
     "name": "stderr",
     "output_type": "stream",
     "text": [
      "/var/folders/jv/hvl4bxhn45d10f4fq__lhlxm0000gn/T/ipykernel_33616/1564488762.py:8: DtypeWarning: Columns (10,11) have mixed types. Specify dtype option on import or set low_memory=False.\n",
      "  f = pd.read_csv(os.path.join(raw_data_dir, file))\n"
     ]
    },
    {
     "name": "stdout",
     "output_type": "stream",
     "text": [
      "Trying to process Medicare_Physician_Other_Practitioners_by_Provider_and_Service_2019.csv\n"
     ]
    },
    {
     "name": "stderr",
     "output_type": "stream",
     "text": [
      "/var/folders/jv/hvl4bxhn45d10f4fq__lhlxm0000gn/T/ipykernel_33616/1564488762.py:8: DtypeWarning: Columns (11) have mixed types. Specify dtype option on import or set low_memory=False.\n",
      "  f = pd.read_csv(os.path.join(raw_data_dir, file))\n"
     ]
    },
    {
     "name": "stdout",
     "output_type": "stream",
     "text": [
      "Trying to process .DS_Store\n",
      "Unable to process .DS_Store\n",
      "Trying to process Medicare_Physician_Other_Practitioners_by_Provider_and_Service_2018.csv\n"
     ]
    },
    {
     "name": "stderr",
     "output_type": "stream",
     "text": [
      "/var/folders/jv/hvl4bxhn45d10f4fq__lhlxm0000gn/T/ipykernel_33616/1564488762.py:8: DtypeWarning: Columns (11) have mixed types. Specify dtype option on import or set low_memory=False.\n",
      "  f = pd.read_csv(os.path.join(raw_data_dir, file))\n"
     ]
    },
    {
     "name": "stdout",
     "output_type": "stream",
     "text": [
      "Trying to process Medicare_Physician_Other_Practitioners_by_Provider_and_Service_2016.csv\n"
     ]
    },
    {
     "name": "stderr",
     "output_type": "stream",
     "text": [
      "/var/folders/jv/hvl4bxhn45d10f4fq__lhlxm0000gn/T/ipykernel_33616/1564488762.py:8: DtypeWarning: Columns (11) have mixed types. Specify dtype option on import or set low_memory=False.\n",
      "  f = pd.read_csv(os.path.join(raw_data_dir, file))\n"
     ]
    },
    {
     "name": "stdout",
     "output_type": "stream",
     "text": [
      "Trying to process Medicare_Physician_Other_Practitioners_by_Provider_and_Service_2017.csv\n"
     ]
    },
    {
     "name": "stderr",
     "output_type": "stream",
     "text": [
      "/var/folders/jv/hvl4bxhn45d10f4fq__lhlxm0000gn/T/ipykernel_33616/1564488762.py:8: DtypeWarning: Columns (11) have mixed types. Specify dtype option on import or set low_memory=False.\n",
      "  f = pd.read_csv(os.path.join(raw_data_dir, file))\n"
     ]
    },
    {
     "name": "stdout",
     "output_type": "stream",
     "text": [
      "Trying to process Medicare_Physician_Other_Practitioners_by_Provider_and_Service_2015.csv\n"
     ]
    },
    {
     "name": "stderr",
     "output_type": "stream",
     "text": [
      "/var/folders/jv/hvl4bxhn45d10f4fq__lhlxm0000gn/T/ipykernel_33616/1564488762.py:8: DtypeWarning: Columns (11) have mixed types. Specify dtype option on import or set low_memory=False.\n",
      "  f = pd.read_csv(os.path.join(raw_data_dir, file))\n"
     ]
    },
    {
     "name": "stdout",
     "output_type": "stream",
     "text": [
      "Trying to process Medicare_Physician_Other_Practitioners_by_Provider_and_Service_2014.csv\n"
     ]
    },
    {
     "name": "stderr",
     "output_type": "stream",
     "text": [
      "/var/folders/jv/hvl4bxhn45d10f4fq__lhlxm0000gn/T/ipykernel_33616/1564488762.py:8: DtypeWarning: Columns (11) have mixed types. Specify dtype option on import or set low_memory=False.\n",
      "  f = pd.read_csv(os.path.join(raw_data_dir, file))\n"
     ]
    },
    {
     "name": "stdout",
     "output_type": "stream",
     "text": [
      "Trying to process Medicare_Physician_Other_Practitioners_by_Provider_and_Service_2013.csv\n"
     ]
    },
    {
     "name": "stderr",
     "output_type": "stream",
     "text": [
      "/var/folders/jv/hvl4bxhn45d10f4fq__lhlxm0000gn/T/ipykernel_33616/1564488762.py:8: DtypeWarning: Columns (11) have mixed types. Specify dtype option on import or set low_memory=False.\n",
      "  f = pd.read_csv(os.path.join(raw_data_dir, file))\n"
     ]
    }
   ],
   "source": [
    "explore_data = []\n",
    "all_explore_cpt = ['75894']\n",
    "\n",
    "raw_data_dir = os.path.join(current_dir, \"medicare-dataset\")\n",
    "for file in os.listdir(raw_data_dir):\n",
    "    print(f\"Trying to process {file}\")\n",
    "    try:\n",
    "        f = pd.read_csv(os.path.join(raw_data_dir, file))\n",
    "        nsg_only = f[f['Rndrng_Prvdr_Type'] == 'Neurosurgery'].reset_index(drop=True)\n",
    "\n",
    "        year = int(file.replace(\".csv\", \"\")[-4:])\n",
    "        nsg_only['year'] = year\n",
    "    \n",
    "        explore_data.append(nsg_only[nsg_only['HCPCS_Cd'].isin(all_explore_cpt)].reset_index(drop=True))\n",
    "    except:\n",
    "        print(f\"Unable to process {file}\")\n",
    "        traceback.format_exc()\n",
    "        \n",
    "explore_data = pd.concat(explore_data, ignore_index=True)"
   ]
  },
  {
   "cell_type": "code",
   "execution_count": 152,
   "id": "bb5ef2e2-0bbd-4d26-b7d8-e04c61fc506a",
   "metadata": {},
   "outputs": [],
   "source": [
    "cpi_map = {\n",
    "    2013: 233,\n",
    "    2014: 236.7,\n",
    "    2015: 237,\n",
    "    2016: 240,\n",
    "    2017: 245.1,\n",
    "    2018: 251.1,\n",
    "    2019: 255.7,\n",
    "    2020: 258.8,\n",
    "    2021: 271,\n",
    "    2022: 292.7,\n",
    "    2023: 304.7,\n",
    "    2024: 313.7,\n",
    "    2025: 322.3\n",
    "}\n",
    "\n",
    "explore_data['Tot_Srvcs_Spend'] = explore_data['Tot_Srvcs'] * explore_data['Avg_Mdcr_Stdzd_Amt'] \n",
    "util_2023_2013_adj_explore = (\n",
    "    explore_data\n",
    "    .groupby(['HCPCS_Cd', 'year'], as_index=False)\n",
    "    .agg(Sum_Utilization=('Tot_Srvcs', 'sum'),\n",
    "         Sum_Spend=('Tot_Srvcs_Spend', 'sum'),\n",
    "         Sum_Provider=('Rndrng_NPI', lambda x: x.nunique()))\n",
    ")\n",
    "util_2023_2013_adj_explore['CPI'] = util_2023_2013_adj_explore['year'].map(cpi_map).fillna(0)\n",
    "util_2023_2013_adj_explore['Sum_Spend_adjusted'] = util_2023_2013_adj_explore['Sum_Spend'] / util_2023_2013_adj_explore['CPI'] * cpi_map[2023]\n",
    "util_2023_2013_adj_explore['Avg_Price_per_service_adjusted'] = (\n",
    "    util_2023_2013_adj_explore['Sum_Spend_adjusted'] / util_2023_2013_adj_explore['Sum_Utilization']\n",
    ")"
   ]
  },
  {
   "cell_type": "code",
   "execution_count": 153,
   "id": "14d7178b-791a-4db4-8d35-dcb08549d60b",
   "metadata": {},
   "outputs": [
    {
     "data": {
      "text/html": [
       "<div>\n",
       "<style scoped>\n",
       "    .dataframe tbody tr th:only-of-type {\n",
       "        vertical-align: middle;\n",
       "    }\n",
       "\n",
       "    .dataframe tbody tr th {\n",
       "        vertical-align: top;\n",
       "    }\n",
       "\n",
       "    .dataframe thead th {\n",
       "        text-align: right;\n",
       "    }\n",
       "</style>\n",
       "<table border=\"1\" class=\"dataframe\">\n",
       "  <thead>\n",
       "    <tr style=\"text-align: right;\">\n",
       "      <th></th>\n",
       "      <th>HCPCS_Cd</th>\n",
       "      <th>year</th>\n",
       "      <th>Sum_Utilization</th>\n",
       "      <th>Sum_Spend</th>\n",
       "      <th>Sum_Provider</th>\n",
       "      <th>CPI</th>\n",
       "      <th>Sum_Spend_adjusted</th>\n",
       "      <th>Avg_Price_per_service_adjusted</th>\n",
       "    </tr>\n",
       "  </thead>\n",
       "  <tbody>\n",
       "    <tr>\n",
       "      <th>0</th>\n",
       "      <td>75894</td>\n",
       "      <td>2013</td>\n",
       "      <td>1347.0</td>\n",
       "      <td>70442.84</td>\n",
       "      <td>68</td>\n",
       "      <td>233.0</td>\n",
       "      <td>92119.885614</td>\n",
       "      <td>68.388928</td>\n",
       "    </tr>\n",
       "    <tr>\n",
       "      <th>1</th>\n",
       "      <td>75894</td>\n",
       "      <td>2014</td>\n",
       "      <td>1471.0</td>\n",
       "      <td>77355.18</td>\n",
       "      <td>73</td>\n",
       "      <td>236.7</td>\n",
       "      <td>99578.045399</td>\n",
       "      <td>67.694117</td>\n",
       "    </tr>\n",
       "    <tr>\n",
       "      <th>2</th>\n",
       "      <td>75894</td>\n",
       "      <td>2015</td>\n",
       "      <td>1626.0</td>\n",
       "      <td>86966.68</td>\n",
       "      <td>78</td>\n",
       "      <td>237.0</td>\n",
       "      <td>111809.060743</td>\n",
       "      <td>68.763260</td>\n",
       "    </tr>\n",
       "    <tr>\n",
       "      <th>3</th>\n",
       "      <td>75894</td>\n",
       "      <td>2016</td>\n",
       "      <td>1510.0</td>\n",
       "      <td>80197.02</td>\n",
       "      <td>77</td>\n",
       "      <td>240.0</td>\n",
       "      <td>101816.799975</td>\n",
       "      <td>67.428344</td>\n",
       "    </tr>\n",
       "    <tr>\n",
       "      <th>4</th>\n",
       "      <td>75894</td>\n",
       "      <td>2017</td>\n",
       "      <td>1483.0</td>\n",
       "      <td>81233.98</td>\n",
       "      <td>77</td>\n",
       "      <td>245.1</td>\n",
       "      <td>100987.326422</td>\n",
       "      <td>68.096646</td>\n",
       "    </tr>\n",
       "    <tr>\n",
       "      <th>5</th>\n",
       "      <td>75894</td>\n",
       "      <td>2018</td>\n",
       "      <td>1780.0</td>\n",
       "      <td>103360.25</td>\n",
       "      <td>94</td>\n",
       "      <td>251.1</td>\n",
       "      <td>125423.608821</td>\n",
       "      <td>70.462702</td>\n",
       "    </tr>\n",
       "    <tr>\n",
       "      <th>6</th>\n",
       "      <td>75894</td>\n",
       "      <td>2019</td>\n",
       "      <td>2207.0</td>\n",
       "      <td>128780.23</td>\n",
       "      <td>106</td>\n",
       "      <td>255.7</td>\n",
       "      <td>153458.490735</td>\n",
       "      <td>69.532619</td>\n",
       "    </tr>\n",
       "    <tr>\n",
       "      <th>7</th>\n",
       "      <td>75894</td>\n",
       "      <td>2020</td>\n",
       "      <td>2268.0</td>\n",
       "      <td>131284.61</td>\n",
       "      <td>117</td>\n",
       "      <td>258.8</td>\n",
       "      <td>154568.858837</td>\n",
       "      <td>68.152054</td>\n",
       "    </tr>\n",
       "    <tr>\n",
       "      <th>8</th>\n",
       "      <td>75894</td>\n",
       "      <td>2021</td>\n",
       "      <td>2765.0</td>\n",
       "      <td>155303.55</td>\n",
       "      <td>133</td>\n",
       "      <td>271.0</td>\n",
       "      <td>174616.205480</td>\n",
       "      <td>63.152335</td>\n",
       "    </tr>\n",
       "    <tr>\n",
       "      <th>9</th>\n",
       "      <td>75894</td>\n",
       "      <td>2022</td>\n",
       "      <td>3278.0</td>\n",
       "      <td>184414.20</td>\n",
       "      <td>159</td>\n",
       "      <td>292.7</td>\n",
       "      <td>191974.741168</td>\n",
       "      <td>58.564595</td>\n",
       "    </tr>\n",
       "    <tr>\n",
       "      <th>10</th>\n",
       "      <td>75894</td>\n",
       "      <td>2023</td>\n",
       "      <td>3603.0</td>\n",
       "      <td>201372.93</td>\n",
       "      <td>169</td>\n",
       "      <td>304.7</td>\n",
       "      <td>201372.930000</td>\n",
       "      <td>55.890350</td>\n",
       "    </tr>\n",
       "  </tbody>\n",
       "</table>\n",
       "</div>"
      ],
      "text/plain": [
       "   HCPCS_Cd  year  Sum_Utilization  Sum_Spend  Sum_Provider    CPI  \\\n",
       "0     75894  2013           1347.0   70442.84            68  233.0   \n",
       "1     75894  2014           1471.0   77355.18            73  236.7   \n",
       "2     75894  2015           1626.0   86966.68            78  237.0   \n",
       "3     75894  2016           1510.0   80197.02            77  240.0   \n",
       "4     75894  2017           1483.0   81233.98            77  245.1   \n",
       "5     75894  2018           1780.0  103360.25            94  251.1   \n",
       "6     75894  2019           2207.0  128780.23           106  255.7   \n",
       "7     75894  2020           2268.0  131284.61           117  258.8   \n",
       "8     75894  2021           2765.0  155303.55           133  271.0   \n",
       "9     75894  2022           3278.0  184414.20           159  292.7   \n",
       "10    75894  2023           3603.0  201372.93           169  304.7   \n",
       "\n",
       "    Sum_Spend_adjusted  Avg_Price_per_service_adjusted  \n",
       "0         92119.885614                       68.388928  \n",
       "1         99578.045399                       67.694117  \n",
       "2        111809.060743                       68.763260  \n",
       "3        101816.799975                       67.428344  \n",
       "4        100987.326422                       68.096646  \n",
       "5        125423.608821                       70.462702  \n",
       "6        153458.490735                       69.532619  \n",
       "7        154568.858837                       68.152054  \n",
       "8        174616.205480                       63.152335  \n",
       "9        191974.741168                       58.564595  \n",
       "10       201372.930000                       55.890350  "
      ]
     },
     "execution_count": 153,
     "metadata": {},
     "output_type": "execute_result"
    }
   ],
   "source": [
    "util_2023_2013_adj_explore"
   ]
  },
  {
   "cell_type": "code",
   "execution_count": 154,
   "id": "58a774a6-379c-4abd-968c-c90a09f64e48",
   "metadata": {},
   "outputs": [
    {
     "name": "stderr",
     "output_type": "stream",
     "text": [
      "/var/folders/jv/hvl4bxhn45d10f4fq__lhlxm0000gn/T/ipykernel_33616/3998791135.py:1: DtypeWarning: Columns (11) have mixed types. Specify dtype option on import or set low_memory=False.\n",
      "  f = pd.read_csv(os.path.join(raw_data_dir, file))\n"
     ]
    }
   ],
   "source": [
    "f = pd.read_csv(os.path.join(raw_data_dir, file))"
   ]
  },
  {
   "cell_type": "code",
   "execution_count": 155,
   "id": "44f0bcaa-7127-4e71-bfdf-142c7d07d3f3",
   "metadata": {},
   "outputs": [
    {
     "data": {
      "text/html": [
       "<div>\n",
       "<style scoped>\n",
       "    .dataframe tbody tr th:only-of-type {\n",
       "        vertical-align: middle;\n",
       "    }\n",
       "\n",
       "    .dataframe tbody tr th {\n",
       "        vertical-align: top;\n",
       "    }\n",
       "\n",
       "    .dataframe thead th {\n",
       "        text-align: right;\n",
       "    }\n",
       "</style>\n",
       "<table border=\"1\" class=\"dataframe\">\n",
       "  <thead>\n",
       "    <tr style=\"text-align: right;\">\n",
       "      <th></th>\n",
       "      <th>Rndrng_NPI</th>\n",
       "      <th>Rndrng_Prvdr_Last_Org_Name</th>\n",
       "      <th>Rndrng_Prvdr_First_Name</th>\n",
       "      <th>Rndrng_Prvdr_MI</th>\n",
       "      <th>Rndrng_Prvdr_Crdntls</th>\n",
       "      <th>Rndrng_Prvdr_Ent_Cd</th>\n",
       "      <th>Rndrng_Prvdr_St1</th>\n",
       "      <th>Rndrng_Prvdr_St2</th>\n",
       "      <th>Rndrng_Prvdr_City</th>\n",
       "      <th>Rndrng_Prvdr_State_Abrvtn</th>\n",
       "      <th>...</th>\n",
       "      <th>HCPCS_Desc</th>\n",
       "      <th>HCPCS_Drug_Ind</th>\n",
       "      <th>Place_Of_Srvc</th>\n",
       "      <th>Tot_Benes</th>\n",
       "      <th>Tot_Srvcs</th>\n",
       "      <th>Tot_Bene_Day_Srvcs</th>\n",
       "      <th>Avg_Sbmtd_Chrg</th>\n",
       "      <th>Avg_Mdcr_Alowd_Amt</th>\n",
       "      <th>Avg_Mdcr_Pymt_Amt</th>\n",
       "      <th>Avg_Mdcr_Stdzd_Amt</th>\n",
       "    </tr>\n",
       "  </thead>\n",
       "  <tbody>\n",
       "    <tr>\n",
       "      <th>0</th>\n",
       "      <td>1003000126</td>\n",
       "      <td>Enkeshafi</td>\n",
       "      <td>Ardalan</td>\n",
       "      <td>NaN</td>\n",
       "      <td>M.D.</td>\n",
       "      <td>I</td>\n",
       "      <td>900 Seton Dr</td>\n",
       "      <td>NaN</td>\n",
       "      <td>Cumberland</td>\n",
       "      <td>MD</td>\n",
       "      <td>...</td>\n",
       "      <td>Initial hospital inpatient care, typically 50 ...</td>\n",
       "      <td>N</td>\n",
       "      <td>F</td>\n",
       "      <td>138</td>\n",
       "      <td>142.0</td>\n",
       "      <td>142</td>\n",
       "      <td>368.626761</td>\n",
       "      <td>132.170070</td>\n",
       "      <td>104.299718</td>\n",
       "      <td>107.211127</td>\n",
       "    </tr>\n",
       "    <tr>\n",
       "      <th>1</th>\n",
       "      <td>1003000126</td>\n",
       "      <td>Enkeshafi</td>\n",
       "      <td>Ardalan</td>\n",
       "      <td>NaN</td>\n",
       "      <td>M.D.</td>\n",
       "      <td>I</td>\n",
       "      <td>900 Seton Dr</td>\n",
       "      <td>NaN</td>\n",
       "      <td>Cumberland</td>\n",
       "      <td>MD</td>\n",
       "      <td>...</td>\n",
       "      <td>Initial hospital inpatient care, typically 70 ...</td>\n",
       "      <td>N</td>\n",
       "      <td>F</td>\n",
       "      <td>95</td>\n",
       "      <td>96.0</td>\n",
       "      <td>96</td>\n",
       "      <td>524.604167</td>\n",
       "      <td>196.932396</td>\n",
       "      <td>155.901146</td>\n",
       "      <td>157.598854</td>\n",
       "    </tr>\n",
       "    <tr>\n",
       "      <th>2</th>\n",
       "      <td>1003000126</td>\n",
       "      <td>Enkeshafi</td>\n",
       "      <td>Ardalan</td>\n",
       "      <td>NaN</td>\n",
       "      <td>M.D.</td>\n",
       "      <td>I</td>\n",
       "      <td>900 Seton Dr</td>\n",
       "      <td>NaN</td>\n",
       "      <td>Cumberland</td>\n",
       "      <td>MD</td>\n",
       "      <td>...</td>\n",
       "      <td>Subsequent hospital inpatient care, typically ...</td>\n",
       "      <td>N</td>\n",
       "      <td>F</td>\n",
       "      <td>47</td>\n",
       "      <td>61.0</td>\n",
       "      <td>61</td>\n",
       "      <td>97.000000</td>\n",
       "      <td>37.688197</td>\n",
       "      <td>30.065246</td>\n",
       "      <td>30.584918</td>\n",
       "    </tr>\n",
       "    <tr>\n",
       "      <th>3</th>\n",
       "      <td>1003000126</td>\n",
       "      <td>Enkeshafi</td>\n",
       "      <td>Ardalan</td>\n",
       "      <td>NaN</td>\n",
       "      <td>M.D.</td>\n",
       "      <td>I</td>\n",
       "      <td>900 Seton Dr</td>\n",
       "      <td>NaN</td>\n",
       "      <td>Cumberland</td>\n",
       "      <td>MD</td>\n",
       "      <td>...</td>\n",
       "      <td>Subsequent hospital inpatient care, typically ...</td>\n",
       "      <td>N</td>\n",
       "      <td>F</td>\n",
       "      <td>381</td>\n",
       "      <td>777.0</td>\n",
       "      <td>777</td>\n",
       "      <td>187.594595</td>\n",
       "      <td>69.433539</td>\n",
       "      <td>55.091351</td>\n",
       "      <td>55.957773</td>\n",
       "    </tr>\n",
       "    <tr>\n",
       "      <th>4</th>\n",
       "      <td>1003000126</td>\n",
       "      <td>Enkeshafi</td>\n",
       "      <td>Ardalan</td>\n",
       "      <td>NaN</td>\n",
       "      <td>M.D.</td>\n",
       "      <td>I</td>\n",
       "      <td>900 Seton Dr</td>\n",
       "      <td>NaN</td>\n",
       "      <td>Cumberland</td>\n",
       "      <td>MD</td>\n",
       "      <td>...</td>\n",
       "      <td>Subsequent hospital inpatient care, typically ...</td>\n",
       "      <td>N</td>\n",
       "      <td>F</td>\n",
       "      <td>106</td>\n",
       "      <td>170.0</td>\n",
       "      <td>170</td>\n",
       "      <td>271.976471</td>\n",
       "      <td>101.070353</td>\n",
       "      <td>80.641235</td>\n",
       "      <td>80.939824</td>\n",
       "    </tr>\n",
       "  </tbody>\n",
       "</table>\n",
       "<p>5 rows × 28 columns</p>\n",
       "</div>"
      ],
      "text/plain": [
       "   Rndrng_NPI Rndrng_Prvdr_Last_Org_Name Rndrng_Prvdr_First_Name  \\\n",
       "0  1003000126                  Enkeshafi                 Ardalan   \n",
       "1  1003000126                  Enkeshafi                 Ardalan   \n",
       "2  1003000126                  Enkeshafi                 Ardalan   \n",
       "3  1003000126                  Enkeshafi                 Ardalan   \n",
       "4  1003000126                  Enkeshafi                 Ardalan   \n",
       "\n",
       "  Rndrng_Prvdr_MI Rndrng_Prvdr_Crdntls Rndrng_Prvdr_Ent_Cd Rndrng_Prvdr_St1  \\\n",
       "0             NaN                 M.D.                   I     900 Seton Dr   \n",
       "1             NaN                 M.D.                   I     900 Seton Dr   \n",
       "2             NaN                 M.D.                   I     900 Seton Dr   \n",
       "3             NaN                 M.D.                   I     900 Seton Dr   \n",
       "4             NaN                 M.D.                   I     900 Seton Dr   \n",
       "\n",
       "  Rndrng_Prvdr_St2 Rndrng_Prvdr_City Rndrng_Prvdr_State_Abrvtn  ...  \\\n",
       "0              NaN        Cumberland                        MD  ...   \n",
       "1              NaN        Cumberland                        MD  ...   \n",
       "2              NaN        Cumberland                        MD  ...   \n",
       "3              NaN        Cumberland                        MD  ...   \n",
       "4              NaN        Cumberland                        MD  ...   \n",
       "\n",
       "                                          HCPCS_Desc HCPCS_Drug_Ind  \\\n",
       "0  Initial hospital inpatient care, typically 50 ...              N   \n",
       "1  Initial hospital inpatient care, typically 70 ...              N   \n",
       "2  Subsequent hospital inpatient care, typically ...              N   \n",
       "3  Subsequent hospital inpatient care, typically ...              N   \n",
       "4  Subsequent hospital inpatient care, typically ...              N   \n",
       "\n",
       "   Place_Of_Srvc Tot_Benes Tot_Srvcs Tot_Bene_Day_Srvcs Avg_Sbmtd_Chrg  \\\n",
       "0              F       138     142.0                142     368.626761   \n",
       "1              F        95      96.0                 96     524.604167   \n",
       "2              F        47      61.0                 61      97.000000   \n",
       "3              F       381     777.0                777     187.594595   \n",
       "4              F       106     170.0                170     271.976471   \n",
       "\n",
       "  Avg_Mdcr_Alowd_Amt Avg_Mdcr_Pymt_Amt Avg_Mdcr_Stdzd_Amt  \n",
       "0         132.170070        104.299718         107.211127  \n",
       "1         196.932396        155.901146         157.598854  \n",
       "2          37.688197         30.065246          30.584918  \n",
       "3          69.433539         55.091351          55.957773  \n",
       "4         101.070353         80.641235          80.939824  \n",
       "\n",
       "[5 rows x 28 columns]"
      ]
     },
     "execution_count": 155,
     "metadata": {},
     "output_type": "execute_result"
    }
   ],
   "source": [
    "f.head()"
   ]
  },
  {
   "cell_type": "code",
   "execution_count": null,
   "id": "f18b9f77-6e0b-48f0-9b4e-ac94a7a2fbca",
   "metadata": {},
   "outputs": [],
   "source": []
  }
 ],
 "metadata": {
  "kernelspec": {
   "display_name": "Python 3 (ipykernel)",
   "language": "python",
   "name": "python3"
  },
  "language_info": {
   "codemirror_mode": {
    "name": "ipython",
    "version": 3
   },
   "file_extension": ".py",
   "mimetype": "text/x-python",
   "name": "python",
   "nbconvert_exporter": "python",
   "pygments_lexer": "ipython3",
   "version": "3.8.20"
  }
 },
 "nbformat": 4,
 "nbformat_minor": 5
}
